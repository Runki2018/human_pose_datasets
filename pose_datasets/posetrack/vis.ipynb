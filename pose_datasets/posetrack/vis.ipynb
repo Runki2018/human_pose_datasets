{
 "cells": [
  {
   "cell_type": "markdown",
   "metadata": {},
   "source": [
    "+ 可视化<posetrack2json.py>生成的数据，检测标注信息是否正确"
   ]
  },
  {
   "cell_type": "code",
   "execution_count": 3,
   "metadata": {},
   "outputs": [],
   "source": [
    "import cv2\n",
    "import matplotlib.pyplot as plt \n",
    "from pathlib import Path \n",
    "import os \n",
    "import numpy as np \n",
    "from my_coco_tools import COCO\n",
    "from tqdm import tqdm\n",
    "import shutil"
   ]
  },
  {
   "cell_type": "code",
   "execution_count": 4,
   "metadata": {},
   "outputs": [],
   "source": [
    "data_type = \"val\"   # train, val\n",
    "ann_file = Path(f\"posetrack/annotations/posetrack_{data_type}.json\")\n",
    "img_path = Path(f\"posetrack/images/{data_type}\")"
   ]
  },
  {
   "cell_type": "markdown",
   "metadata": {},
   "source": [
    "PoseTrack的类别信息"
   ]
  },
  {
   "cell_type": "code",
   "execution_count": 5,
   "metadata": {},
   "outputs": [],
   "source": [
    "categories = [\n",
    "        {\n",
    "            \"supercategory\": \"person\", \n",
    "            \"id\": 1, \n",
    "            \"name\": \"person\", \n",
    "            \"keypoints\": ['nose', 'head_bottom', 'head_top',\n",
    "                        'left_ear', 'right_ear', \n",
    "                        'left_shoulder', 'right_shoulder',\n",
    "                        'left_elbow', 'right_elbow',\n",
    "                        'left_wrist', 'right_wrist',\n",
    "                        'left_hip', 'right_hip',\n",
    "                        'left_knee','right_knee', \n",
    "                        'left_ankle', 'right_ankle'], \n",
    "            \"skeleton\": [[16, 14], [14, 12], [17, 15],\n",
    "                        [15, 13], [12, 13], [6, 12],\n",
    "                        [7, 13], [6, 7], [6, 8], \n",
    "                        [7, 9], [8, 10], [9, 11],\n",
    "                        [2, 3], [1, 2], [1, 3], \n",
    "                        [2, 4], [3, 5], [4, 6], [5, 7]]\n",
    "        }\n",
    "    ]\n",
    "skeleton = np.array(categories[0]['skeleton']) - 1"
   ]
  },
  {
   "cell_type": "code",
   "execution_count": 6,
   "metadata": {},
   "outputs": [],
   "source": [
    "def _int(v):\n",
    "    return [int(vi) for vi in v]\n",
    "\n",
    "def draw_pose(img, kpts, bbox, bbox_head, thickness=2, color=(0, 255, 0), skeleton=None):\n",
    "    \"\"\"\n",
    "        img: cv2.imread\n",
    "        kpt: ann_info['keypoints']\n",
    "        bbox:ann_info['bbox']\n",
    "        kpt_type: 'coco' or 'mixed', default to 'coco'\n",
    "    \"\"\"\n",
    "    kpts = np.array(kpts).reshape((-1, 3))\n",
    "    # 1 keypoints\n",
    "    for x, y, vis in kpts:\n",
    "        if vis > 0:\n",
    "            cv2.circle(img, (int(x), int(y)), thickness+2, color, cv2.FILLED)\n",
    "\n",
    "    # 2 bbox\n",
    "    left_top = bbox[:2]\n",
    "    right_bottom = bbox[0] + bbox[2], bbox[1] + bbox[3]\n",
    "    cv2.rectangle(img, _int(left_top), _int(right_bottom), (0, 0, 255), thickness=thickness)  \n",
    "\n",
    "    # 2 bbox_head\n",
    "    left_top = bbox_head[:2]\n",
    "    right_bottom = bbox_head[0] + bbox_head[2], bbox_head[1] + bbox_head[3]\n",
    "    cv2.rectangle(img, _int(left_top), _int(right_bottom), (255, 0, 255), thickness=thickness)  \n",
    "\n",
    "    if skeleton is not None:\n",
    "        for pairs in skeleton:\n",
    "            if kpts[pairs[0], 2] > 0 and kpts[pairs[1], 2] > 0:\n",
    "                pt1 = kpts[pairs[0], :2].astype(np.int32).tolist()\n",
    "                pt2 = kpts[pairs[1], :2].astype(np.int32).tolist()\n",
    "                cv2.line(img, pt1, pt2, color, thickness)\n",
    "    return img\n"
   ]
  },
  {
   "cell_type": "code",
   "execution_count": 7,
   "metadata": {},
   "outputs": [],
   "source": [
    "def show_img(file, img_dir):\n",
    "    print(f\"Press 'q' to quit!\")\n",
    "    dataset = COCO(str(file))\n",
    "    imgIds = dataset.getImgIds()\n",
    "    cv2.namedWindow(\"images\")\n",
    "    for img_id in tqdm(imgIds, desc=f\"{file.stem}\"):\n",
    "        img_info = dataset.loadImgs(img_id)[0]\n",
    "        img_file = img_dir.joinpath(img_info['file_name'])\n",
    "\n",
    "        if img_file.exists():\n",
    "            img = plt.imread(str(img_file))\n",
    "            annIds = dataset.getAnnIds(imgIds=img_id)\n",
    "            if len(annIds) == 0:\n",
    "                # raise ValueError(f\"{len(annIds)=}\")\n",
    "                cv2.imshow(\"images\", img)\n",
    "                key = cv2.waitKey()\n",
    "                if key & 0xFF == ord('q'):\n",
    "                    cv2.destroyAllWindows()\n",
    "                    return \n",
    "                continue\n",
    "            \n",
    "            for ann_id in annIds:\n",
    "                ann_info = dataset.loadAnns(ann_id)[0]\n",
    "                kpts = ann_info.get('keypoints', False)\n",
    "                bbox = ann_info.get('bbox', False)\n",
    "                bbox_head = ann_info.get('bbox_head', False)\n",
    "                if kpts and bbox and bbox_head:\n",
    "                    img = draw_pose(img, kpts, bbox, bbox_head, skeleton=skeleton)\n",
    "\n",
    "            cv2.imshow(\"images\", img)\n",
    "            key = cv2.waitKey(2)\n",
    "            if key & 0xFF == ord('q'):\n",
    "                cv2.destroyAllWindows()\n",
    "                return \n",
    "        else:\n",
    "            print(f\"img_file not exists!\")\n",
    "    cv2.destroyAllWindows()\n"
   ]
  },
  {
   "cell_type": "code",
   "execution_count": 8,
   "metadata": {},
   "outputs": [
    {
     "name": "stdout",
     "output_type": "stream",
     "text": [
      "Press 'q' to quit!\n"
     ]
    },
    {
     "name": "stderr",
     "output_type": "stream",
     "text": [
      "posetrack_train:  20%|█▉        | 3529/18025 [02:51<11:43, 20.61it/s]\n"
     ]
    }
   ],
   "source": [
    "show_img(file=ann_file, img_dir=img_path)"
   ]
  }
 ],
 "metadata": {
  "kernelspec": {
   "display_name": "Python 3.9.12 ('p39')",
   "language": "python",
   "name": "python3"
  },
  "language_info": {
   "codemirror_mode": {
    "name": "ipython",
    "version": 3
   },
   "file_extension": ".py",
   "mimetype": "text/x-python",
   "name": "python",
   "nbconvert_exporter": "python",
   "pygments_lexer": "ipython3",
   "version": "3.9.12"
  },
  "orig_nbformat": 4,
  "vscode": {
   "interpreter": {
    "hash": "2977251e1b2ca22a3cfc09d5f408daba24a1809e852c29e73dfa9b1ba1933376"
   }
  }
 },
 "nbformat": 4,
 "nbformat_minor": 2
}
